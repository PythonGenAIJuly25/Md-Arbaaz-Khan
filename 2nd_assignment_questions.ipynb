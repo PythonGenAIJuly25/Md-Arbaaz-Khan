{
  "cells": [
    {
      "cell_type": "markdown",
      "metadata": {
        "id": "6q3mpR2bXyHh"
      },
      "source": [
        "# Module 2: Control Flow Assignments\n",
        "## Lesson 2.1: Conditional Statements\n",
        "### Assignment 1: Simple if Statement\n",
        "\n",
        "Write a program that asks the user to input a number and prints whether the number is positive.\n",
        "\n",
        "\n",
        "### Assignment 2: if-else Statement\n",
        "\n",
        "Write a program that asks the user to input a number and prints whether the number is positive or negative.\n",
        "\n",
        "### Assignment 3: if-elif-else Statement\n",
        "\n",
        "Write a program that asks the user to input a number and prints whether the number is positive, negative, or zero.\n",
        "\n",
        "### Assignment 4: Nested if Statement\n",
        "\n",
        "Write a program that asks the user to input a number and prints whether the number is positive and even, positive and odd, or negative.\n",
        "\n",
        "## Lesson 2.2: Loops\n",
        "### Assignment 5: for Loop\n",
        "\n",
        "Write a program that prints all the numbers from 1 to 10 using a for loop.\n",
        "\n",
        "### Assignment 6: while Loop\n",
        "\n",
        "Write a program that prints all the numbers from 1 to 10 using a while loop.\n",
        "\n",
        "### Assignment 7: Nested Loops\n",
        "\n",
        "Write a program that prints a 5x5 grid of asterisks (*) using nested loops.\n",
        "\n",
        "### Assignment 8: break Statement\n",
        "\n",
        "Write a program that asks the user to input numbers until they input 0. The program should print the sum of all the input numbers.\n",
        "\n",
        "### Assignment 9: continue Statement\n",
        "\n",
        "Write a program that prints all the numbers from 1 to 10 except 5 using a for loop and continue statement.\n",
        "\n",
        "### Assignment 10: pass Statement\n",
        "\n",
        "Write a program that defines an empty function using the pass statement.\n",
        "\n",
        "### Assignment 11: Combining Loops and Conditionals\n",
        "\n",
        "Write a program that asks the user to input a number and prints all the even numbers from 1 to that number using a for loop.\n",
        "\n",
        "### Assignment 12: Factorial Calculation\n",
        "\n",
        "Write a program that calculates the factorial of a number input by the user using a while loop.\n",
        "\n",
        "### Assignment 13: Sum of Digits\n",
        "\n",
        "Write a program that calculates the sum of the digits of a number input by the user using a while loop.\n",
        "\n",
        "### Assignment 14: Prime Number Check\n",
        "\n",
        "Write a program that checks if a number input by the user is a prime number using a for loop.\n",
        "\n",
        "### Assignment 15: Fibonacci Sequence\n",
        "\n",
        "Write a program that prints the first n Fibonacci numbers, where n is input by the user."
      ],
      "id": "6q3mpR2bXyHh"
    },
    {
      "cell_type": "code",
      "source": [
        "#program1\n",
        "num=int(input(\"Enter a number\"))\n",
        "if num>0:\n",
        "  print(\"It is positive\")"
      ],
      "metadata": {
        "id": "hS5ghJWaZmH4",
        "colab": {
          "base_uri": "https://localhost:8080/"
        },
        "outputId": "d52a0832-cf80-4994-bfae-07be0ceb6930"
      },
      "id": "hS5ghJWaZmH4",
      "execution_count": 9,
      "outputs": [
        {
          "output_type": "stream",
          "name": "stdout",
          "text": [
            "Enter a number11\n",
            "It is positive\n"
          ]
        }
      ]
    },
    {
      "cell_type": "code",
      "execution_count": 8,
      "metadata": {
        "id": "kXlcsZ9AXyHj",
        "colab": {
          "base_uri": "https://localhost:8080/"
        },
        "outputId": "76ba4d8a-de08-4d63-db4d-f2ee4f5943cc"
      },
      "outputs": [
        {
          "output_type": "stream",
          "name": "stdout",
          "text": [
            "Enter your number :5\n",
            "Number is  positive\n"
          ]
        }
      ],
      "source": [
        "#program2\n",
        "def number(num):\n",
        "  if num > 0:\n",
        "    return \"positive\"\n",
        "  elif num < 0:\n",
        "    return \"Negative\"\n",
        "num=int(input(\"Enter your number :\"))\n",
        "print(\"Number is \", number(num))"
      ],
      "id": "kXlcsZ9AXyHj"
    },
    {
      "cell_type": "code",
      "source": [
        "#program3\n",
        "def number(num):\n",
        "  if num > 0:\n",
        "    return \"positive\"\n",
        "  elif num < 0:\n",
        "    return \"Negative\"\n",
        "  else:\n",
        "    return \"Zero\"\n",
        "num=int(input(\"Enter your number :\"))\n",
        "print(\"Number is \", number(num))"
      ],
      "metadata": {
        "id": "AhLCJds7aDIY",
        "colab": {
          "base_uri": "https://localhost:8080/"
        },
        "outputId": "e84d222c-dc86-4339-fd67-6de9e544b48a"
      },
      "id": "AhLCJds7aDIY",
      "execution_count": 7,
      "outputs": [
        {
          "output_type": "stream",
          "name": "stdout",
          "text": [
            "Enter your number :10\n",
            "Number is  positive\n"
          ]
        }
      ]
    },
    {
      "cell_type": "code",
      "source": [
        "#program4\n",
        "def number(num):\n",
        "  if num > 0:\n",
        "    if num % 2==0:\n",
        "      return \"positive and even\"\n",
        "    else:\n",
        "      return \"postive and odd\"\n",
        "  else:\n",
        "    return \"Zero\"\n",
        "num=int(input(\"Enter your number :\"))\n",
        "print(\"Number is \", number(num))"
      ],
      "metadata": {
        "id": "2rgQkX6maF74",
        "colab": {
          "base_uri": "https://localhost:8080/"
        },
        "outputId": "2c14a416-f463-4019-b07e-54f4a9bdf952"
      },
      "id": "2rgQkX6maF74",
      "execution_count": 6,
      "outputs": [
        {
          "output_type": "stream",
          "name": "stdout",
          "text": [
            "Enter your number :5\n",
            "Number is  postive and odd\n"
          ]
        }
      ]
    },
    {
      "cell_type": "code",
      "source": [
        "#program5\n",
        "num=10\n",
        "for i in range(1,num+1,1):\n",
        "  print(i,end=\" \")"
      ],
      "metadata": {
        "colab": {
          "base_uri": "https://localhost:8080/"
        },
        "id": "ugdDdUI9auCs",
        "outputId": "70b565a1-17fb-4091-d278-87912af8e2fa"
      },
      "id": "ugdDdUI9auCs",
      "execution_count": null,
      "outputs": [
        {
          "output_type": "stream",
          "name": "stdout",
          "text": [
            "1 2 3 4 5 6 7 8 9 10 "
          ]
        }
      ]
    },
    {
      "cell_type": "code",
      "source": [
        "#program6\n",
        "i=1\n",
        "while i<=10:\n",
        "  print(i,end=\" \")\n",
        "  i+=1"
      ],
      "metadata": {
        "colab": {
          "base_uri": "https://localhost:8080/"
        },
        "id": "x37HGYpHbDCM",
        "outputId": "d71b631a-3773-4f09-ce33-38c3f37115a0"
      },
      "id": "x37HGYpHbDCM",
      "execution_count": null,
      "outputs": [
        {
          "output_type": "stream",
          "name": "stdout",
          "text": [
            "1 2 3 4 5 6 7 8 9 10 "
          ]
        }
      ]
    },
    {
      "cell_type": "code",
      "source": [
        "#Write a program that prints a 5x5 grid of asterisks (*) using nested loops.\n",
        "grid_size = 5\n",
        "for i in range(grid_size):\n",
        "    for j in range(grid_size):\n",
        "        print(\"*\", end=\" \")\n",
        "    print()"
      ],
      "metadata": {
        "colab": {
          "base_uri": "https://localhost:8080/"
        },
        "id": "rSdNTAM6bfGS",
        "outputId": "142e2669-2248-4aa3-e6f9-833e360a62f5"
      },
      "id": "rSdNTAM6bfGS",
      "execution_count": null,
      "outputs": [
        {
          "output_type": "stream",
          "name": "stdout",
          "text": [
            "* * * * * \n",
            "* * * * * \n",
            "* * * * * \n",
            "* * * * * \n",
            "* * * * * \n"
          ]
        }
      ]
    },
    {
      "cell_type": "code",
      "source": [
        "#Write a program that asks the user to input numbers until they input 0. The program should print the sum of all the input numbers.\n",
        "total_sum=0\n",
        "while True:\n",
        "   num=int(input(\"Enter a number(0 to stop)\"))\n",
        "   if num == 0:\n",
        "    break\n",
        "   else:\n",
        "    total_sum+=num\n",
        "print(total_sum)"
      ],
      "metadata": {
        "colab": {
          "base_uri": "https://localhost:8080/"
        },
        "id": "DRo_BNKrb-au",
        "outputId": "f6616491-7487-48d5-d53d-af614235e142"
      },
      "id": "DRo_BNKrb-au",
      "execution_count": null,
      "outputs": [
        {
          "output_type": "stream",
          "name": "stdout",
          "text": [
            "Enter a number(0 to stop)10\n",
            "Enter a number(0 to stop)20\n",
            "Enter a number(0 to stop)30\n",
            "Enter a number(0 to stop)0\n",
            "60\n"
          ]
        }
      ]
    },
    {
      "cell_type": "code",
      "source": [
        "#Write a program that prints all the numbers from 1 to 10 except 5 using a for loop and continue statement.\n",
        "for i in range(1,11,1):\n",
        "  if i==5:\n",
        "    continue\n",
        "  print(i,end=\" \")\n"
      ],
      "metadata": {
        "colab": {
          "base_uri": "https://localhost:8080/"
        },
        "id": "cS1G4rwgc8jE",
        "outputId": "93618c13-02f6-4989-96fd-e0bc6fad28a0"
      },
      "id": "cS1G4rwgc8jE",
      "execution_count": null,
      "outputs": [
        {
          "output_type": "stream",
          "name": "stdout",
          "text": [
            "1 2 3 4 6 7 8 9 10 "
          ]
        }
      ]
    },
    {
      "cell_type": "code",
      "source": [
        "#Write a program that defines an empty function using the pass statement.\n",
        "def hello():\n",
        "  pass\n",
        "hello()\n",
        "print(\"The empty function called\")"
      ],
      "metadata": {
        "id": "VIavuQWfddd3",
        "colab": {
          "base_uri": "https://localhost:8080/"
        },
        "outputId": "18e7b456-48ff-4cc0-8924-c78bf5c376fc"
      },
      "id": "VIavuQWfddd3",
      "execution_count": 5,
      "outputs": [
        {
          "output_type": "stream",
          "name": "stdout",
          "text": [
            "The empty function called\n"
          ]
        }
      ]
    },
    {
      "cell_type": "code",
      "source": [
        "#Write a program that asks the user to input a number and prints all the even numbers from 1 to that number using a for loop.\n",
        "num=int(input(\"enter a number:\"))\n",
        "for i in range(1,num):\n",
        "  if i%2==0:\n",
        "    print(i,end=\" \")"
      ],
      "metadata": {
        "colab": {
          "base_uri": "https://localhost:8080/"
        },
        "id": "MlDMKQEYdspH",
        "outputId": "ff38a908-2421-4b89-f108-3a593f4329a1"
      },
      "id": "MlDMKQEYdspH",
      "execution_count": null,
      "outputs": [
        {
          "output_type": "stream",
          "name": "stdout",
          "text": [
            "enter a number20\n",
            "2 4 6 8 10 12 14 16 18 "
          ]
        }
      ]
    },
    {
      "cell_type": "code",
      "source": [
        "#Write a program that calculates the factorial of a number input by the user using a while loop.\n",
        "num=int(input(\"enter a number\"))\n",
        "fact=1\n",
        "i=1\n",
        "while i<=num:\n",
        "  fact*=i\n",
        "  i+=1\n",
        "print(fact)\n",
        "\n"
      ],
      "metadata": {
        "colab": {
          "base_uri": "https://localhost:8080/"
        },
        "id": "_pxW01tjeIHM",
        "outputId": "d16320ad-560f-4c60-e682-b18084ed9348"
      },
      "id": "_pxW01tjeIHM",
      "execution_count": null,
      "outputs": [
        {
          "output_type": "stream",
          "name": "stdout",
          "text": [
            "enter a number5\n",
            "120\n"
          ]
        }
      ]
    },
    {
      "cell_type": "code",
      "source": [
        "#Write a program that calculates the sum of the digits of a number input by the user using a while loop.\n",
        "number=int(input(\"Enter a number:\"))\n",
        "digit_sum=0\n",
        "while number > 0:\n",
        "      digit = number % 10  # Get the last digit\n",
        "      digit_sum += digit      # Add to the sum\n",
        "      number //= 10\n",
        "\n",
        "print(f\"The sum of the digits is: {digit_sum}\")"
      ],
      "metadata": {
        "id": "siG49z58fPPa",
        "colab": {
          "base_uri": "https://localhost:8080/"
        },
        "outputId": "0c18af26-0790-4c0c-8ebc-08ef5078b1f9"
      },
      "id": "siG49z58fPPa",
      "execution_count": 2,
      "outputs": [
        {
          "output_type": "stream",
          "name": "stdout",
          "text": [
            "Enter a number:212\n",
            "The sum of the digits is: 5\n"
          ]
        }
      ]
    },
    {
      "cell_type": "code",
      "source": [
        "#Write a program that prints the first n Fibonacci numbers, where n is input by the user.\n",
        "def fibo(n):\n",
        "  a, b=0, 1\n",
        "  for i in range(n):\n",
        "    print(a,end=\" \")\n",
        "    a, b=b, a+b\n",
        "n=int(input(\"enter a number till fibo series:\"))\n",
        "fibo(n)"
      ],
      "metadata": {
        "colab": {
          "base_uri": "https://localhost:8080/"
        },
        "id": "OZElAnSCe4kO",
        "outputId": "ff882209-834b-4cb0-b6f4-783e82964f41"
      },
      "id": "OZElAnSCe4kO",
      "execution_count": null,
      "outputs": [
        {
          "output_type": "stream",
          "name": "stdout",
          "text": [
            "enter a number till fibo series10\n",
            "0 1 1 2 3 5 8 13 21 34 "
          ]
        }
      ]
    }
  ],
  "metadata": {
    "kernelspec": {
      "display_name": "Python 3",
      "language": "python",
      "name": "python3"
    },
    "language_info": {
      "codemirror_mode": {
        "name": "ipython",
        "version": 3
      },
      "file_extension": ".py",
      "mimetype": "text/x-python",
      "name": "python",
      "nbconvert_exporter": "python",
      "pygments_lexer": "ipython3",
      "version": "3.9.7"
    },
    "colab": {
      "provenance": []
    }
  },
  "nbformat": 4,
  "nbformat_minor": 5
}