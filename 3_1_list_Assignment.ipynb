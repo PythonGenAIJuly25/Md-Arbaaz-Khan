{
  "cells": [
    {
      "cell_type": "markdown",
      "metadata": {
        "id": "6qNBbeigZHHf"
      },
      "source": [
        "# Module 3: Data Structures Assignments\n",
        "## Lesson 3.1: Lists\n",
        "\n"
      ],
      "id": "6qNBbeigZHHf"
    },
    {
      "cell_type": "code",
      "source": [
        "### Assignment 1: Creating and Accessing Lists\n",
        "#Create a list of the first 20 positive integers. Print the list.\n",
        "positive_integers = list(range(1, 21))\n",
        "\n",
        "print(positive_integers)"
      ],
      "metadata": {
        "colab": {
          "base_uri": "https://localhost:8080/"
        },
        "id": "cOZlxj3jVhrt",
        "outputId": "503ff4d6-08c1-4904-e517-bb5e5e82622c"
      },
      "id": "cOZlxj3jVhrt",
      "execution_count": 1,
      "outputs": [
        {
          "output_type": "stream",
          "name": "stdout",
          "text": [
            "[1, 2, 3, 4, 5, 6, 7, 8, 9, 10, 11, 12, 13, 14, 15, 16, 17, 18, 19, 20]\n"
          ]
        }
      ]
    },
    {
      "cell_type": "code",
      "source": [
        "# Assignment 2: Accessing List Elements\n",
        "#Print the first, middle, and last elements of the list created in Assignment 1.\n",
        "print(f\"first element in assignment one is {positive_integers[0]}\")\n",
        "print(f\"middle element in assignment one is {positive_integers[len(positive_integers) // 2]}\")\n",
        "print(f\"last element in assignment one is {positive_integers[-1]}\")"
      ],
      "metadata": {
        "colab": {
          "base_uri": "https://localhost:8080/"
        },
        "id": "jksCMcmuVbHy",
        "outputId": "aa9e0cb2-607e-4e35-c095-22771c975e15"
      },
      "id": "jksCMcmuVbHy",
      "execution_count": 4,
      "outputs": [
        {
          "output_type": "stream",
          "name": "stdout",
          "text": [
            "first element in assignment one is 1\n",
            "middle element in assignment one is 11\n",
            "last element in assignment one is 20\n"
          ]
        }
      ]
    },
    {
      "cell_type": "code",
      "execution_count": 8,
      "metadata": {
        "id": "3b5p5t53ZHHh",
        "colab": {
          "base_uri": "https://localhost:8080/"
        },
        "outputId": "ba6a04f2-05d8-45db-be82-35cfe0ed9c80"
      },
      "outputs": [
        {
          "output_type": "stream",
          "name": "stdout",
          "text": [
            "First five elements: [1, 2, 3, 4, 5]\n",
            "Last five elements: [16, 17, 18, 19, 20]\n",
            "elements from index 5 to 15 : [6, 7, 8, 9, 10, 11, 12, 13, 14, 15, 16]\n"
          ]
        }
      ],
      "source": [
        "# Assignment 3: List Slicing\n",
        "#Print the first five elements, the last five elements, and the elements from index 5 to 15 of the list created in Assignment 1.\n",
        "print(\"First five elements:\", positive_integers[:5])\n",
        "print(\"Last five elements:\",positive_integers[-5:])\n",
        "print(\"elements from index 5 to 15 :\",positive_integers[5:16])"
      ],
      "id": "3b5p5t53ZHHh"
    },
    {
      "cell_type": "code",
      "source": [
        " #Assignment 4: List Comprehensions\n",
        " #Create a new list containing the squares of the first 10 positive integers using a list comprehension. Print the new list.\n",
        "positive_int = [i**2 for i in range(1, 11)]\n",
        "print(positive_int)\n"
      ],
      "metadata": {
        "colab": {
          "base_uri": "https://localhost:8080/"
        },
        "id": "SIyI1UD2bEXr",
        "outputId": "ed984dcf-32e6-417d-e456-f3e0f4d0dec4"
      },
      "id": "SIyI1UD2bEXr",
      "execution_count": 9,
      "outputs": [
        {
          "output_type": "stream",
          "name": "stdout",
          "text": [
            "[1, 4, 9, 16, 25, 36, 49, 64, 81, 100]\n"
          ]
        }
      ]
    },
    {
      "cell_type": "code",
      "source": [
        "# Assignment 5: Filtering Lists\n",
        "#Create a new list containing only the even numbers from the list created in Assignment 1 using a list comprehension. Print the new list.\n",
        "positive_integers = list(range(1, 21))\n",
        "even_numbers = [num for num in positive_integers if num % 2 == 0]\n",
        "print(\"Even numbers:\", even_numbers)"
      ],
      "metadata": {
        "colab": {
          "base_uri": "https://localhost:8080/"
        },
        "id": "2EAPGZ4ZbeNf",
        "outputId": "602bdce4-ae5c-469d-b169-92d4141dcb9a"
      },
      "id": "2EAPGZ4ZbeNf",
      "execution_count": 10,
      "outputs": [
        {
          "output_type": "stream",
          "name": "stdout",
          "text": [
            "Even numbers: [2, 4, 6, 8, 10, 12, 14, 16, 18, 20]\n"
          ]
        }
      ]
    },
    {
      "cell_type": "code",
      "source": [
        "# Assignment 6: List Methods\n",
        "#Create a list of random numbers and sort it in ascending and descending order. Remove the duplicates from the list and print the modified list.\n",
        "random_numbers = [5, 3, 8, 6, 3, 5, 9, 1, 8]\n",
        "asc = sorted(random_numbers)\n",
        "desc = sorted(random_numbers, reverse=True)\n",
        "no_duplicates = list(set(random_numbers))\n",
        "print(\"Ascending:\", asc)\n",
        "print(\"Descending:\", desc)\n",
        "print(\"Without duplicates:\", no_duplicates)\n"
      ],
      "metadata": {
        "colab": {
          "base_uri": "https://localhost:8080/"
        },
        "id": "h3TELg35eP6d",
        "outputId": "a9fd9a33-302d-4d29-8ff6-b6eae18f3d4e"
      },
      "id": "h3TELg35eP6d",
      "execution_count": 11,
      "outputs": [
        {
          "output_type": "stream",
          "name": "stdout",
          "text": [
            "Ascending: [1, 3, 3, 5, 5, 6, 8, 8, 9]\n",
            "Descending: [9, 8, 8, 6, 5, 5, 3, 3, 1]\n",
            "Without duplicates: [1, 3, 5, 6, 8, 9]\n"
          ]
        }
      ]
    },
    {
      "cell_type": "code",
      "source": [
        "# Assignment 7: Nested Lists\n",
        "#create a nested list representing a 3x3 matrix and print the matrix. Access and print the element at the second row and third column.\n",
        "matrix = [\n",
        "    [1, 2, 3],\n",
        "    [4, 5, 6],\n",
        "    [7, 8, 9]\n",
        "]\n",
        "\n",
        "print(\"Matrix:\")\n",
        "for row in matrix:\n",
        "    print(row)\n",
        "\n",
        "print(\"Element at 2nd row, 3rd column:\", matrix[1][2])\n"
      ],
      "metadata": {
        "colab": {
          "base_uri": "https://localhost:8080/"
        },
        "id": "opD7W6kzehsH",
        "outputId": "8b95e6d7-a00e-4118-abbe-7d4cda6d1c14"
      },
      "id": "opD7W6kzehsH",
      "execution_count": 12,
      "outputs": [
        {
          "output_type": "stream",
          "name": "stdout",
          "text": [
            "Matrix:\n",
            "[1, 2, 3]\n",
            "[4, 5, 6]\n",
            "[7, 8, 9]\n",
            "Element at 2nd row, 3rd column: 6\n"
          ]
        }
      ]
    },
    {
      "cell_type": "code",
      "source": [
        "### Assignment 8: List of Dictionaries\n",
        "#Create a list of dictionaries where each dictionary represents a student with keys 'name' and 'score'. Sort the list of dictionaries by the 'score' in descending order and print the sorted list.\n",
        "\n",
        "students = [\n",
        "    {'name': 'Arbaaz', 'score': 85},\n",
        "    {'name': 'Shruti', 'score': 92},\n",
        "    {'name': 'Nikhil', 'score': 98}\n",
        "]\n",
        "\n",
        "sorted_students = sorted(students, key=lambda x: x['score'], reverse=True)\n",
        "print(\"Sorted by score (desc):\", sorted_students)\n"
      ],
      "metadata": {
        "colab": {
          "base_uri": "https://localhost:8080/"
        },
        "id": "IpCVrpMueoHw",
        "outputId": "83143b5e-f8f7-48ba-c545-4075f82eb20a"
      },
      "id": "IpCVrpMueoHw",
      "execution_count": 13,
      "outputs": [
        {
          "output_type": "stream",
          "name": "stdout",
          "text": [
            "Sorted by score (desc): [{'name': 'Nikhil', 'score': 98}, {'name': 'Shruti', 'score': 92}, {'name': 'Arbaaz', 'score': 85}]\n"
          ]
        }
      ]
    },
    {
      "cell_type": "code",
      "source": [
        "### Assignment 9: Matrix Transposition\n",
        "#Write a function that takes a 3x3 matrix (nested list) as input and returns its transpose. Print the original and transposed matrices.\n",
        "def transpose(matrix):\n",
        "    return [[row[i] for row in matrix] for i in range(len(matrix[0]))]\n",
        "\n",
        "matrix = [\n",
        "    [1, 2, 3],\n",
        "    [4, 5, 6],\n",
        "    [7, 8, 9]\n",
        "]\n",
        "\n",
        "transposed = transpose(matrix)\n",
        "print(\"Original:\", matrix)\n",
        "print(\"Transposed:\", transposed)\n"
      ],
      "metadata": {
        "colab": {
          "base_uri": "https://localhost:8080/"
        },
        "id": "dL5tt6iUewWK",
        "outputId": "232f7409-af0b-41c6-99fa-b1844cc39354"
      },
      "id": "dL5tt6iUewWK",
      "execution_count": 14,
      "outputs": [
        {
          "output_type": "stream",
          "name": "stdout",
          "text": [
            "Original: [[1, 2, 3], [4, 5, 6], [7, 8, 9]]\n",
            "Transposed: [[1, 4, 7], [2, 5, 8], [3, 6, 9]]\n"
          ]
        }
      ]
    },
    {
      "cell_type": "code",
      "source": [
        "\n",
        "\n",
        "### Assignment 10: Flattening a Nested List\n",
        "\n",
        "#Write a function that takes a nested list and flattens it into a single list. Print the original and flattened lists.\n",
        "\n",
        "def flatten(nested):\n",
        "    return [item for sublist in nested for item in sublist]\n",
        "\n",
        "nested_list = [[1, 2], [3, 4], [5, 6]]\n",
        "flat_list = flatten(nested_list)\n",
        "\n",
        "print(\"Original:\", nested_list)\n",
        "print(\"Flattened:\", flat_list)\n"
      ],
      "metadata": {
        "colab": {
          "base_uri": "https://localhost:8080/"
        },
        "id": "mGKJ3td3e08f",
        "outputId": "ac7b96e6-6980-4754-c167-1d126f5f9f9b"
      },
      "id": "mGKJ3td3e08f",
      "execution_count": 15,
      "outputs": [
        {
          "output_type": "stream",
          "name": "stdout",
          "text": [
            "Original: [[1, 2], [3, 4], [5, 6]]\n",
            "Flattened: [1, 2, 3, 4, 5, 6]\n"
          ]
        }
      ]
    },
    {
      "cell_type": "code",
      "source": [
        "\n",
        "\n",
        "# Assignment 11: List Manipulation\n",
        "\n",
        "#Create a list of the first 10 positive integers. Remove the elements at indices 2, 4, and 6, and insert the element '99' at index 5. Print the modified list.\n",
        "\n",
        "nums = list(range(1, 11))\n",
        "for i in sorted([2, 4, 6], reverse=True):\n",
        "    del nums[i]\n",
        "nums.insert(5, 99)\n",
        "print(\"Modified list:\", nums)\n"
      ],
      "metadata": {
        "colab": {
          "base_uri": "https://localhost:8080/"
        },
        "id": "8sg0b8Gre4j_",
        "outputId": "462fb908-f28e-416e-c61f-d9cb46372145"
      },
      "id": "8sg0b8Gre4j_",
      "execution_count": 16,
      "outputs": [
        {
          "output_type": "stream",
          "name": "stdout",
          "text": [
            "Modified list: [1, 2, 4, 6, 8, 99, 9, 10]\n"
          ]
        }
      ]
    },
    {
      "cell_type": "code",
      "source": [
        "### Assignment 12: List Zipping\n",
        "\n",
        "#Create two lists of the same length. Use the `zip` function to combine these lists into a list of tuples and print the result.\n",
        "a = [1, 2, 3]\n",
        "b = ['a', 'b', 'c']\n",
        "zipped = list(zip(a, b))\n",
        "print(\"Zipped list:\", zipped)\n"
      ],
      "metadata": {
        "colab": {
          "base_uri": "https://localhost:8080/"
        },
        "id": "HZSlabe6e72B",
        "outputId": "d944b0b2-b3f9-4272-db31-d4fbd0bdcae8"
      },
      "id": "HZSlabe6e72B",
      "execution_count": 17,
      "outputs": [
        {
          "output_type": "stream",
          "name": "stdout",
          "text": [
            "Zipped list: [(1, 'a'), (2, 'b'), (3, 'c')]\n"
          ]
        }
      ]
    },
    {
      "cell_type": "code",
      "source": [
        "### Assignment 13: List Reversal\n",
        "\n",
        "#Write a function that takes a list and returns a new list with the elements in reverse order. Print the original and reversed lists.\n",
        "\n",
        "def reverse_list(lst):\n",
        "    return lst[::-1]\n",
        "\n",
        "original = [1, 2, 3, 4, 5]\n",
        "reversed_list = reverse_list(original)\n",
        "\n",
        "print(\"Original:\", original)\n",
        "print(\"Reversed:\", reversed_list)\n"
      ],
      "metadata": {
        "colab": {
          "base_uri": "https://localhost:8080/"
        },
        "id": "0pYOwKk1e_X8",
        "outputId": "b9ac436f-571a-45ff-82e1-c290ea8274f3"
      },
      "id": "0pYOwKk1e_X8",
      "execution_count": 18,
      "outputs": [
        {
          "output_type": "stream",
          "name": "stdout",
          "text": [
            "Original: [1, 2, 3, 4, 5]\n",
            "Reversed: [5, 4, 3, 2, 1]\n"
          ]
        }
      ]
    },
    {
      "cell_type": "code",
      "source": [
        "# Assignment 14: List Rotation\n",
        "\n",
        "#Write a function that rotates a list by n positions. Print the original and rotated lists.\n",
        "def rotate_list(lst, n):\n",
        "    n = n % len(lst)\n",
        "    return lst[n:] + lst[:n]\n",
        "\n",
        "original = [1, 2, 3, 4, 5]\n",
        "rotated = rotate_list(original, 2)\n",
        "\n",
        "print(\"Original:\", original)\n",
        "print(\"Rotated:\", rotated)\n"
      ],
      "metadata": {
        "colab": {
          "base_uri": "https://localhost:8080/"
        },
        "id": "yw9MDii8fC2J",
        "outputId": "6b75af6e-dbc6-41c0-a9e9-813680532119"
      },
      "id": "yw9MDii8fC2J",
      "execution_count": 19,
      "outputs": [
        {
          "output_type": "stream",
          "name": "stdout",
          "text": [
            "Original: [1, 2, 3, 4, 5]\n",
            "Rotated: [3, 4, 5, 1, 2]\n"
          ]
        }
      ]
    },
    {
      "cell_type": "code",
      "source": [
        "### Assignment 15: List Intersection\n",
        "\n",
        "#Write a function that takes two lists and returns a new list containing only the elements that are present in both lists. Print the intersected list.\n",
        "\n",
        "def intersect_lists(a, b):\n",
        "    return [item for item in a if item in b]\n",
        "\n",
        "list1 = [1, 2, 3, 4]\n",
        "list2 = [3, 4, 5, 6]\n",
        "\n",
        "intersection = intersect_lists(list1, list2)\n",
        "print(\"Intersection:\", intersection)\n"
      ],
      "metadata": {
        "colab": {
          "base_uri": "https://localhost:8080/"
        },
        "id": "fRlLWUe4fFv9",
        "outputId": "1afbe7f1-4b0e-4050-cfb9-505f16d727b2"
      },
      "id": "fRlLWUe4fFv9",
      "execution_count": 20,
      "outputs": [
        {
          "output_type": "stream",
          "name": "stdout",
          "text": [
            "Intersection: [3, 4]\n"
          ]
        }
      ]
    }
  ],
  "metadata": {
    "kernelspec": {
      "display_name": "Python 3",
      "language": "python",
      "name": "python3"
    },
    "language_info": {
      "codemirror_mode": {
        "name": "ipython",
        "version": 3
      },
      "file_extension": ".py",
      "mimetype": "text/x-python",
      "name": "python",
      "nbconvert_exporter": "python",
      "pygments_lexer": "ipython3",
      "version": "3.9.7"
    },
    "colab": {
      "provenance": []
    }
  },
  "nbformat": 4,
  "nbformat_minor": 5
}