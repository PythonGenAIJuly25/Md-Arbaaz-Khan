{
  "cells": [
    {
      "cell_type": "markdown",
      "metadata": {
        "id": "Ahd9XhqJSuP7"
      },
      "source": [
        "# Python Basics\n",
        "## Topics Covered:\n",
        "- Syntax and Semantics\n",
        "- Variables and Data Types\n",
        "- Basic Operators (Arithmetic, Comparison, Logical)\n"
      ]
    },
    {
      "cell_type": "markdown",
      "metadata": {
        "id": "mla95Wv4SuQA"
      },
      "source": [
        "## 1. Syntax and Semantics\n",
        "\n",
        "**Question 1:** Write a Python program to print \"Hello, World!\"."
      ]
    },
    {
      "cell_type": "code",
      "execution_count": 4,
      "metadata": {
        "id": "B6PAY9ReSuQB"
      },
      "outputs": [
        {
          "name": "stdout",
          "output_type": "stream",
          "text": [
            "Hello World\n"
          ]
        }
      ],
      "source": [
        "# Your code here\n",
        "print(\"Hello World\")"
      ]
    },
    {
      "cell_type": "markdown",
      "metadata": {
        "id": "EdRZ_vf-SuQC"
      },
      "source": [
        "**Question 2:** Write a Python program that takes a user input and prints it."
      ]
    },
    {
      "cell_type": "code",
      "execution_count": 3,
      "metadata": {
        "id": "QTy_G3gWSuQD"
      },
      "outputs": [
        {
          "name": "stdout",
          "output_type": "stream",
          "text": [
            "hello your num is 5\n"
          ]
        }
      ],
      "source": [
        "# Your code here\n",
        "num=int(input(\"Hello please enter your number\"))\n",
        "print(f\"hello your num is {num}\")\n"
      ]
    },
    {
      "cell_type": "markdown",
      "metadata": {
        "id": "L4PLHSptSuQD"
      },
      "source": [
        "**Question 3:** Write a Python program to check if a number is positive, negative, or zero."
      ]
    },
    {
      "cell_type": "code",
      "execution_count": null,
      "metadata": {
        "colab": {
          "base_uri": "https://localhost:8080/"
        },
        "id": "0wBh8oJASuQE",
        "outputId": "6ac536fd-cf6f-4de4-ba3b-9bfa4f47e148"
      },
      "outputs": [
        {
          "name": "stdout",
          "output_type": "stream",
          "text": [
            "Enter your number :10\n",
            "Number is  positive\n"
          ]
        }
      ],
      "source": [
        "# Your code here\n",
        "def number(num):\n",
        "  if num > 0:\n",
        "    return \"positive\"\n",
        "  elif num < 0:\n",
        "    return \"Negative\"\n",
        "  else:\n",
        "    return \"Zero\"\n",
        "num=int(input(\"Enter your number :\"))\n",
        "print(\"Number is \", number(num))"
      ]
    },
    {
      "cell_type": "markdown",
      "metadata": {
        "id": "jS5fmbf_SuQE"
      },
      "source": [
        "**Question 4:** Write a Python program to find the largest of three numbers."
      ]
    },
    {
      "cell_type": "code",
      "execution_count": 2,
      "metadata": {
        "id": "RDId0kmsSuQE"
      },
      "outputs": [
        {
          "name": "stdout",
          "output_type": "stream",
          "text": [
            "The largest number is: 30\n"
          ]
        }
      ],
      "source": [
        "# Your code here\n",
        "num1 = int(input(\"Enter the first number: \"))\n",
        "num2 = int(input(\"Enter the second number: \"))\n",
        "num3 = int(input(\"Enter the third number: \"))\n",
        "\n",
        "largest = max(num1, num2, num3)\n",
        "\n",
        "print(\"The largest number is:\", largest)"
      ]
    },
    {
      "cell_type": "markdown",
      "metadata": {
        "id": "mJAJRVaQSuQF"
      },
      "source": [
        "**Question 5:** Write a Python program to calculate the factorial of a number."
      ]
    },
    {
      "cell_type": "code",
      "execution_count": null,
      "metadata": {
        "colab": {
          "base_uri": "https://localhost:8080/"
        },
        "id": "WIa4ZXiaSuQF",
        "outputId": "598b147f-36d9-49e3-cd2b-7b76f405797b"
      },
      "outputs": [
        {
          "name": "stdout",
          "output_type": "stream",
          "text": [
            "Enter your number :5\n",
            "Factorial of 5 is  120\n"
          ]
        }
      ],
      "source": [
        "# Your code here\n",
        "def fact(num):\n",
        "  if num <= 1:\n",
        "    return 1\n",
        "  return num*fact(num-1)\n",
        "num=int(input(\"Enter your number :\"))\n",
        "print(f\"Factorial of {num} is \", fact(num))"
      ]
    },
    {
      "cell_type": "markdown",
      "metadata": {
        "id": "mgXrXr8XSuQF"
      },
      "source": [
        "## 2. Variables and Data Types\n",
        "\n",
        "**Question 6:** Create variables of different data types: integer, float, string, and boolean. Print their values and types."
      ]
    },
    {
      "cell_type": "code",
      "execution_count": 1,
      "metadata": {
        "id": "LdBQkCP3SuQF"
      },
      "outputs": [
        {
          "name": "stdout",
          "output_type": "stream",
          "text": [
            "Value of my_integer: 10\n",
            "Type of my_integer: <class 'int'>\n",
            "Value of my_float: 3.14\n",
            "Type of my_float: <class 'float'>\n",
            "Value of my_string: Hello, World!\n",
            "Type of my_string: <class 'str'>\n",
            "Value of my_boolean: True\n",
            "Type of my_boolean: <class 'bool'>\n"
          ]
        }
      ],
      "source": [
        "# Your code here\n",
        "my_integer = 10\n",
        "print(f\"Value of my_integer: {my_integer}\")\n",
        "print(f\"Type of my_integer: {type(my_integer)}\")\n",
        "\n",
        "my_float = 3.14\n",
        "print(f\"Value of my_float: {my_float}\")\n",
        "print(f\"Type of my_float: {type(my_float)}\")\n",
        "\n",
        "\n",
        "my_string = \"Hello, World!\"\n",
        "print(f\"Value of my_string: {my_string}\")\n",
        "print(f\"Type of my_string: {type(my_string)}\")\n",
        "\n",
        "my_boolean = True\n",
        "print(f\"Value of my_boolean: {my_boolean}\")\n",
        "print(f\"Type of my_boolean: {type(my_boolean)}\")\n"
      ]
    },
    {
      "cell_type": "markdown",
      "metadata": {
        "id": "wQ0LO0c0SuQG"
      },
      "source": [
        "**Question 7:** Write a Python program to swap the values of two variables."
      ]
    },
    {
      "cell_type": "code",
      "execution_count": null,
      "metadata": {
        "colab": {
          "base_uri": "https://localhost:8080/"
        },
        "id": "1Gk3RnXhSuQG",
        "outputId": "96545470-19d9-42c6-9217-20dd8790650c"
      },
      "outputs": [
        {
          "name": "stdout",
          "output_type": "stream",
          "text": [
            "before swapping a = 10 and b = 20\n",
            "after swapping a = 20 and b = 10\n"
          ]
        }
      ],
      "source": [
        "# Your code here\n",
        "a=10\n",
        "b=20\n",
        "print(f\"before swapping a = {a} and b = {b}\")\n",
        "a, b =b, a\n",
        "print(f\"after swapping a = {a} and b = {b}\")"
      ]
    },
    {
      "cell_type": "markdown",
      "metadata": {
        "id": "6_os3c1ISuQG"
      },
      "source": [
        "**Question 8:** Write a Python program to convert Celsius to Fahrenheit."
      ]
    },
    {
      "cell_type": "code",
      "execution_count": null,
      "metadata": {
        "colab": {
          "base_uri": "https://localhost:8080/"
        },
        "id": "jhqNAr3zSuQG",
        "outputId": "da49756a-7aa6-4b35-8788-feca4b2341bf"
      },
      "outputs": [
        {
          "name": "stdout",
          "output_type": "stream",
          "text": [
            "Enter celsius32\n",
            "32.0°C is equal to 89.6°F\n"
          ]
        }
      ],
      "source": [
        "# Your code here\n",
        "celsius=float(input(\"Enter celsius :\"))\n",
        "fahrenheit = (celsius * 9/5) + 32\n",
        "print(f\"{celsius}°C is equal to {fahrenheit}°F\")"
      ]
    },
    {
      "cell_type": "markdown",
      "metadata": {
        "id": "BGA3VlpwSuQG"
      },
      "source": [
        "**Question 9:** Write a Python program to concatenate two strings."
      ]
    },
    {
      "cell_type": "code",
      "execution_count": null,
      "metadata": {
        "id": "V932WYXYSuQH"
      },
      "outputs": [],
      "source": [
        "# Your code here\n",
        "str_1 = \"Hello\"\n",
        "str_2 = \"World\"\n",
        "\n",
        "concatenated_string = str_1 + \" \" + str_2\n",
        "print(concatenated_string)"
      ]
    },
    {
      "cell_type": "markdown",
      "metadata": {
        "id": "8_a2IsxdSuQH"
      },
      "source": [
        "**Question 10:** Write a Python program to check if a variable is of a specific data type."
      ]
    },
    {
      "cell_type": "code",
      "execution_count": null,
      "metadata": {
        "colab": {
          "base_uri": "https://localhost:8080/"
        },
        "id": "fGD47wyGSuQH",
        "outputId": "7c9e866c-e32e-48de-fc09-15e9e602716a"
      },
      "outputs": [
        {
          "name": "stdout",
          "output_type": "stream",
          "text": [
            "Is 25 an integer? True\n",
            "Is Hello world a string? True\n",
            "Is [1, 2, 3, 4, 5] a list? True\n",
            "Is 2.56 a float? True\n",
            "Is 25 a string? False\n",
            "Is 25 an int or float? True\n"
          ]
        }
      ],
      "source": [
        "# Your code here\n",
        "def check_variable_type(variable, exp_type):\n",
        "\n",
        "    return isinstance(variable, exp_type)\n",
        "\n",
        "integer = 25\n",
        "string = \"Hello world\"\n",
        "list_ = [1, 2, 3,4,5]\n",
        "my_float = 2.56\n",
        "\n",
        "print(f\"Is {integer} an integer? {check_variable_type(integer, int)}\")\n",
        "\n",
        "print(f\"Is {string} a string? {check_variable_type(string, str)}\")\n",
        "\n",
        "print(f\"Is {list_} a list? {check_variable_type(list_, list)}\")\n",
        "\n",
        "print(f\"Is {my_float} a float? {check_variable_type(my_float, float)}\")\n",
        "\n",
        "print(f\"Is {integer} a string? {check_variable_type(integer, str)}\")\n",
        "\n",
        "print(f\"Is {integer} an int or float? {check_variable_type(integer, (int, float))}\")"
      ]
    },
    {
      "cell_type": "markdown",
      "metadata": {
        "id": "06y471WbSuQH"
      },
      "source": [
        "## 3. Basic Operators (Arithmetic, Comparison, Logical)\n",
        "\n",
        "**Question 11:** Write a Python program to perform arithmetic operations: addition, subtraction, multiplication, and division."
      ]
    },
    {
      "cell_type": "code",
      "execution_count": null,
      "metadata": {
        "colab": {
          "base_uri": "https://localhost:8080/"
        },
        "id": "eMYuW0vPSuQH",
        "outputId": "c59a7227-431e-4d33-e817-322d4fd5da11"
      },
      "outputs": [
        {
          "name": "stdout",
          "output_type": "stream",
          "text": [
            "enter a number1:20\n",
            "enter 2nd number30\n",
            "20 + 30 = 50\n",
            "20 - 30 = -10\n",
            "20 * 30 = 600\n",
            "20 // 30 = 0\n"
          ]
        }
      ],
      "source": [
        "# Your code here\n",
        "num1=int(input(\"enter a number1:\"))\n",
        "num2=int(input(\"enter 2nd number\"))\n",
        "print(f\"{num1} + {num2} = {num1+num2}\")\n",
        "print(f\"{num1} - {num2} = {num1-num2}\")\n",
        "print(f\"{num1} * {num2} = {num1*num2}\")\n",
        "print(f\"{num1} // {num2} = {num1//num2}\")"
      ]
    },
    {
      "cell_type": "markdown",
      "metadata": {
        "id": "TmG-hOiHSuQH"
      },
      "source": [
        "**Question 12:** Write a Python program to demonstrate comparison operators: equal to, not equal to, greater than, less than."
      ]
    },
    {
      "cell_type": "code",
      "execution_count": null,
      "metadata": {
        "colab": {
          "base_uri": "https://localhost:8080/"
        },
        "id": "BfAr9zoVSuQH",
        "outputId": "51ef30eb-fab1-4311-82d9-a3def651e73a"
      },
      "outputs": [
        {
          "name": "stdout",
          "output_type": "stream",
          "text": [
            "enter a number1:20\n",
            "enter 2nd number10\n",
            "20 == 10 = False\n",
            "20 != 10 = True\n",
            "20 > 10 = True\n",
            "20 < 10 = False\n"
          ]
        }
      ],
      "source": [
        "# Your code here\n",
        "num1=int(input(\"enter a number1:\"))\n",
        "num2=int(input(\"enter 2nd number\"))\n",
        "print(f\"{num1} == {num2} = {num1==num2}\")\n",
        "print(f\"{num1} != {num2} = {num1 != num2}\")\n",
        "print(f\"{num1} > {num2} = {num1>num2}\")\n",
        "print(f\"{num1} < {num2} = {num1<num2}\")"
      ]
    },
    {
      "cell_type": "markdown",
      "metadata": {
        "id": "eoeCcCAOSuQI"
      },
      "source": [
        "**Question 13:** Write a Python program to demonstrate logical operators: and, or, not."
      ]
    },
    {
      "cell_type": "code",
      "execution_count": null,
      "metadata": {
        "colab": {
          "base_uri": "https://localhost:8080/"
        },
        "id": "akoviF-4SuQI",
        "outputId": "a6b74a45-a86f-49e8-e76e-29630a636cc1"
      },
      "outputs": [
        {
          "name": "stdout",
          "output_type": "stream",
          "text": [
            "True\n",
            "False\n",
            "True\n",
            "False\n"
          ]
        }
      ],
      "source": [
        "# Your code here\n",
        "#and operator\n",
        "x = 10\n",
        "y = 15\n",
        "print(x > 0 and y < 20)\n",
        "print(x > 0 and y < 5)\n",
        "#example of or\n",
        "x=True\n",
        "y=False\n",
        "print(x or y)\n",
        "#example of not\n",
        "a=10\n",
        "b=5\n",
        "print(not a>b)"
      ]
    },
    {
      "cell_type": "markdown",
      "metadata": {
        "id": "96NDK1xySuQI"
      },
      "source": [
        "**Question 14:** Write a Python program to calculate the square of a number."
      ]
    },
    {
      "cell_type": "code",
      "execution_count": null,
      "metadata": {
        "colab": {
          "base_uri": "https://localhost:8080/"
        },
        "id": "DE_6tFSXSuQI",
        "outputId": "7dd25d76-be6d-417d-8feb-17b949774fc9"
      },
      "outputs": [
        {
          "name": "stdout",
          "output_type": "stream",
          "text": [
            "Sqaure of 10 is 100\n"
          ]
        }
      ],
      "source": [
        "# Your code here\n",
        "num=10\n",
        "print(f\"Sqaure of {num} is {num*num}\")"
      ]
    },
    {
      "cell_type": "markdown",
      "metadata": {
        "id": "beDBgI9OSuQI"
      },
      "source": [
        "**Question 15:** Write a Python program to check if a number is even or odd."
      ]
    },
    {
      "cell_type": "code",
      "execution_count": null,
      "metadata": {
        "colab": {
          "base_uri": "https://localhost:8080/"
        },
        "id": "toCWJijfSuQI",
        "outputId": "06ffe41f-418c-4597-f698-29c8230d7920"
      },
      "outputs": [
        {
          "name": "stdout",
          "output_type": "stream",
          "text": [
            "Enter a number:15\n",
            "15 is odd\n"
          ]
        }
      ],
      "source": [
        "# Your code here\n",
        "number=int(input(\"Enter a number:\"))\n",
        "if number % 2 == 0:\n",
        "  print(f\"{number} is even\")\n",
        "else:\n",
        "  print(f\"{number} is odd\")"
      ]
    },
    {
      "cell_type": "markdown",
      "metadata": {
        "id": "8KvYipStSuQI"
      },
      "source": [
        "**Question 16:** Write a Python program to find the sum of the first n natural numbers."
      ]
    },
    {
      "cell_type": "code",
      "execution_count": null,
      "metadata": {
        "colab": {
          "base_uri": "https://localhost:8080/"
        },
        "id": "5p9phhKQSuQI",
        "outputId": "ad9a3ba7-8778-4730-c8fd-5d18556ecbdf"
      },
      "outputs": [
        {
          "name": "stdout",
          "output_type": "stream",
          "text": [
            "Enter last number3\n",
            "6\n"
          ]
        }
      ],
      "source": [
        "# Your code here\n",
        "num=int(input(\"Enter last number:\"))\n",
        "sum=0\n",
        "for i in range(1,num+1):\n",
        "  sum+=i\n",
        "print(sum)"
      ]
    },
    {
      "cell_type": "markdown",
      "metadata": {
        "id": "utkGk4grSuQJ"
      },
      "source": [
        "**Question 17:** Write a Python program to check if a year is a leap year."
      ]
    },
    {
      "cell_type": "code",
      "execution_count": null,
      "metadata": {
        "colab": {
          "base_uri": "https://localhost:8080/"
        },
        "id": "IzfGIB7qSuQJ",
        "outputId": "b6d03236-a454-41e9-a856-720cdd3d6461"
      },
      "outputs": [
        {
          "name": "stdout",
          "output_type": "stream",
          "text": [
            "Enter the year 2025\n",
            "Not a leap year\n"
          ]
        }
      ],
      "source": [
        "# Your code here\n",
        "year=int(input(\"Enter the year \"))\n",
        "if year//4==0 and year%100==0:\n",
        "  print(f\"{year} is a leap year\")\n",
        "else:\n",
        "  print(\"Not a leap year\")"
      ]
    },
    {
      "cell_type": "markdown",
      "metadata": {
        "id": "kqr0UIZYSuQJ"
      },
      "source": [
        "**Question 18:** Write a Python program to reverse a string."
      ]
    },
    {
      "cell_type": "code",
      "execution_count": null,
      "metadata": {
        "colab": {
          "base_uri": "https://localhost:8080/"
        },
        "id": "DNVm6mX9SuQJ",
        "outputId": "679a02e0-1146-4255-8156-9decaafb0617"
      },
      "outputs": [
        {
          "name": "stdout",
          "output_type": "stream",
          "text": [
            "Enter a  wordhello\n",
            "reverse of hello is olleh\n"
          ]
        }
      ],
      "source": [
        "# Your code here\n",
        "string_f=input(\"Enter a  word:\")\n",
        "print(f\"reverse of {string_f} is {string_f[::-1]}\")\n",
        "\n"
      ]
    },
    {
      "cell_type": "markdown",
      "metadata": {
        "id": "HfeDj2RqSuQJ"
      },
      "source": [
        "**Question 19:** Write a Python program to check if a string is a palindrome."
      ]
    },
    {
      "cell_type": "code",
      "execution_count": null,
      "metadata": {
        "colab": {
          "base_uri": "https://localhost:8080/"
        },
        "id": "-9eHy83MSuQJ",
        "outputId": "b3ca5c2e-8a2d-4f48-b919-40b4b5876ed7"
      },
      "outputs": [
        {
          "name": "stdout",
          "output_type": "stream",
          "text": [
            "Its not an pallindrome\n"
          ]
        }
      ],
      "source": [
        "# Your code here\n",
        "num=1213\n",
        "temp=num\n",
        "rev=0\n",
        "while temp > 0:\n",
        "    rev = ( rev * 10) + temp % 10\n",
        "    temp = temp // 10\n",
        "if num == rev:\n",
        "    print(\"palindrome\")\n",
        "else:\n",
        "    print(\"Its not an pallindrome\")"
      ]
    },
    {
      "cell_type": "markdown",
      "metadata": {
        "id": "ufWLoByRSuQN"
      },
      "source": [
        "**Question 20:** Write a Python program to sort a list of numbers in ascending order."
      ]
    },
    {
      "cell_type": "code",
      "execution_count": null,
      "metadata": {
        "colab": {
          "base_uri": "https://localhost:8080/"
        },
        "id": "eB93qf-HSuQO",
        "outputId": "a4fac6d3-a687-46ae-fc53-c6998f21680f"
      },
      "outputs": [
        {
          "name": "stdout",
          "output_type": "stream",
          "text": [
            "[5, 10, 3, 13, 15, 16, 91]\n"
          ]
        }
      ],
      "source": [
        "# Your code here\n",
        "def ascending(arr):\n",
        "   for i in range(len(arr)):\n",
        "       for j in range(i + 1, len(arr)):\n",
        "             if arr[i] > arr[j]:\n",
        "                  temp = arr[i]\n",
        "                  arr[i] = arr[j]\n",
        "                  arr[j] = temp\n",
        "                  return arr\n",
        "arr = [10,5,3,13,15,16,91]\n",
        "print(ascending(arr))"
      ]
    }
  ],
  "metadata": {
    "colab": {
      "provenance": []
    },
    "kernelspec": {
      "display_name": "Python 3",
      "language": "python",
      "name": "python3"
    },
    "language_info": {
      "codemirror_mode": {
        "name": "ipython",
        "version": 3
      },
      "file_extension": ".py",
      "mimetype": "text/x-python",
      "name": "python",
      "nbconvert_exporter": "python",
      "pygments_lexer": "ipython3",
      "version": "3.12.8"
    }
  },
  "nbformat": 4,
  "nbformat_minor": 0
}
